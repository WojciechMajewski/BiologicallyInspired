{
 "cells": [
  {
   "cell_type": "code",
   "execution_count": 31,
   "metadata": {},
   "outputs": [],
   "source": [
    "with open(\"../test5SA.txt\", \"r\") as f:\n",
    "    text = f.read()"
   ]
  },
  {
   "cell_type": "code",
   "execution_count": 32,
   "metadata": {},
   "outputs": [],
   "source": [
    "comp_dict = {}\n",
    "read = False\n",
    "for index, line in enumerate(text.split(\"\\n\")):\n",
    "    if len(line.split()) > 5:\n",
    "        comp_dict[line] = []\n",
    "        read = True\n",
    "    \n",
    "    elif len(line.split()) < 1:\n",
    "        read = False\n",
    "    \n",
    "    elif len(line.split()) == 1:\n",
    "        comp_dict[list(comp_dict.keys())[-1]] += [int(line.split()[0])]\n"
   ]
  },
  {
   "cell_type": "code",
   "execution_count": 33,
   "metadata": {},
   "outputs": [],
   "source": [
    "avg_dict = []\n",
    "\n",
    "for key in comp_dict.keys():\n",
    "    avg_dict += [[sum(comp_dict[key]) / len(comp_dict[key]), key]]\n",
    "\n"
   ]
  },
  {
   "cell_type": "code",
   "execution_count": 34,
   "metadata": {},
   "outputs": [
    {
     "data": {
      "text/plain": [
       "[[1666.6, ' temp: 0.95 | L_coef: 21 | alpha: 0.96 | P: 50'],\n",
       " [1693.2, ' temp: 0.95 | L_coef: 31 | alpha: 0.96 | P: 5'],\n",
       " [1705.8, ' temp: 0.95 | L_coef: 31 | alpha: 0.96 | P: 20'],\n",
       " [1709.4, ' temp: 0.95 | L_coef: 21 | alpha: 0.96 | P: 5'],\n",
       " [1710.6, ' temp: 0.95 | L_coef: 31 | alpha: 0.92 | P: 50'],\n",
       " [1710.8, ' temp: 0.95 | L_coef: 31 | alpha: 0.96 | P: 50'],\n",
       " [1718.6, ' temp: 0.95 | L_coef: 21 | alpha: 0.84 | P: 5'],\n",
       " [1722.0, ' temp: 0.95 | L_coef: 31 | alpha: 0.92 | P: 5'],\n",
       " [1723.4, ' temp: 0.95 | L_coef: 31 | alpha: 0.84 | P: 5'],\n",
       " [1724.0, ' temp: 0.95 | L_coef: 31 | alpha: 0.88 | P: 5'],\n",
       " [1725.2, ' temp: 0.95 | L_coef: 21 | alpha: 0.92 | P: 50'],\n",
       " [1730.6, ' temp: 0.95 | L_coef: 31 | alpha: 0.92 | P: 20'],\n",
       " [1732.4, ' temp: 0.95 | L_coef: 21 | alpha: 0.92 | P: 20'],\n",
       " [1736.6, ' temp: 0.95 | L_coef: 31 | alpha: 0.96 | P: 35'],\n",
       " [1738.0, ' temp: 0.95 | L_coef: 21 | alpha: 0.8 | P: 5'],\n",
       " [1741.6, ' temp: 0.95 | L_coef: 11 | alpha: 0.88 | P: 5'],\n",
       " [1741.8, ' temp: 0.95 | L_coef: 31 | alpha: 0.92 | P: 35'],\n",
       " [1743.2, ' temp: 0.95 | L_coef: 21 | alpha: 0.96 | P: 35'],\n",
       " [1746.4, ' temp: 0.95 | L_coef: 11 | alpha: 0.96 | P: 20'],\n",
       " [1748.2, ' temp: 0.95 | L_coef: 21 | alpha: 0.92 | P: 5'],\n",
       " [1749.0, ' temp: 0.95 | L_coef: 11 | alpha: 0.8 | P: 5'],\n",
       " [1749.0, ' temp: 0.95 | L_coef: 31 | alpha: 0.8 | P: 50'],\n",
       " [1749.6, ' temp: 0.95 | L_coef: 31 | alpha: 0.88 | P: 35'],\n",
       " [1750.4, ' temp: 0.95 | L_coef: 21 | alpha: 0.88 | P: 5'],\n",
       " [1751.0, ' temp: 0.95 | L_coef: 11 | alpha: 0.92 | P: 35'],\n",
       " [1751.0, ' temp: 0.95 | L_coef: 31 | alpha: 0.8 | P: 5'],\n",
       " [1751.2, ' temp: 0.95 | L_coef: 11 | alpha: 0.96 | P: 50'],\n",
       " [1751.6, ' temp: 0.95 | L_coef: 11 | alpha: 0.96 | P: 5'],\n",
       " [1752.6, ' temp: 0.95 | L_coef: 21 | alpha: 0.92 | P: 35'],\n",
       " [1754.8, ' temp: 0.95 | L_coef: 11 | alpha: 0.88 | P: 20'],\n",
       " [1755.0, ' temp: 0.95 | L_coef: 11 | alpha: 0.84 | P: 20'],\n",
       " [1756.0, ' temp: 0.95 | L_coef: 31 | alpha: 0.8 | P: 20'],\n",
       " [1757.4, ' temp: 0.95 | L_coef: 11 | alpha: 0.8 | P: 20'],\n",
       " [1759.2, ' temp: 0.95 | L_coef: 21 | alpha: 0.96 | P: 20'],\n",
       " [1760.2, ' temp: 0.95 | L_coef: 31 | alpha: 0.84 | P: 20'],\n",
       " [1760.6, ' temp: 0.95 | L_coef: 21 | alpha: 0.88 | P: 20'],\n",
       " [1762.2, ' temp: 0.95 | L_coef: 11 | alpha: 0.88 | P: 50'],\n",
       " [1762.4, ' temp: 0.95 | L_coef: 31 | alpha: 0.84 | P: 50'],\n",
       " [1764.2, ' temp: 0.95 | L_coef: 21 | alpha: 0.88 | P: 50'],\n",
       " [1764.2, ' temp: 0.95 | L_coef: 31 | alpha: 0.88 | P: 50'],\n",
       " [1764.4, ' temp: 0.95 | L_coef: 11 | alpha: 0.96 | P: 35'],\n",
       " [1766.2, ' temp: 0.95 | L_coef: 21 | alpha: 0.84 | P: 20'],\n",
       " [1770.6, ' temp: 0.95 | L_coef: 11 | alpha: 0.92 | P: 50'],\n",
       " [1772.8, ' temp: 0.95 | L_coef: 11 | alpha: 0.92 | P: 20'],\n",
       " [1773.2, ' temp: 0.95 | L_coef: 11 | alpha: 0.84 | P: 5'],\n",
       " [1773.4, ' temp: 0.95 | L_coef: 11 | alpha: 0.88 | P: 35'],\n",
       " [1777.0, ' temp: 0.95 | L_coef: 31 | alpha: 0.88 | P: 20'],\n",
       " [1781.2, ' temp: 0.95 | L_coef: 21 | alpha: 0.88 | P: 35'],\n",
       " [1781.2, ' temp: 0.95 | L_coef: 31 | alpha: 0.84 | P: 35'],\n",
       " [1783.2, ' temp: 0.95 | L_coef: 1 | alpha: 0.84 | P: 35'],\n",
       " [1784.4, ' temp: 0.95 | L_coef: 11 | alpha: 0.92 | P: 5'],\n",
       " [1786.4, ' temp: 0.95 | L_coef: 1 | alpha: 0.88 | P: 50'],\n",
       " [1789.8, ' temp: 0.95 | L_coef: 1 | alpha: 0.8 | P: 50'],\n",
       " [1792.0, ' temp: 0.95 | L_coef: 11 | alpha: 0.84 | P: 35'],\n",
       " [1795.0, ' temp: 0.95 | L_coef: 1 | alpha: 0.96 | P: 50'],\n",
       " [1795.8, ' temp: 0.95 | L_coef: 1 | alpha: 0.88 | P: 35'],\n",
       " [1796.8, ' temp: 0.95 | L_coef: 1 | alpha: 0.96 | P: 20'],\n",
       " [1797.2, ' temp: 0.95 | L_coef: 11 | alpha: 0.8 | P: 35'],\n",
       " [1797.4, ' temp: 0.95 | L_coef: 31 | alpha: 0.8 | P: 35'],\n",
       " [1799.6, ' temp: 0.95 | L_coef: 21 | alpha: 0.8 | P: 20'],\n",
       " [1802.0, ' temp: 0.95 | L_coef: 1 | alpha: 0.84 | P: 20'],\n",
       " [1802.4, ' temp: 0.95 | L_coef: 1 | alpha: 0.88 | P: 20'],\n",
       " [1802.4, ' temp: 0.95 | L_coef: 1 | alpha: 0.92 | P: 35'],\n",
       " [1803.6, ' temp: 0.95 | L_coef: 11 | alpha: 0.8 | P: 50'],\n",
       " [1804.2, ' temp: 0.95 | L_coef: 21 | alpha: 0.8 | P: 35'],\n",
       " [1806.0, ' temp: 0.95 | L_coef: 1 | alpha: 0.92 | P: 50'],\n",
       " [1806.0, ' temp: 0.95 | L_coef: 1 | alpha: 0.96 | P: 35'],\n",
       " [1809.0, ' temp: 0.95 | L_coef: 21 | alpha: 0.84 | P: 35'],\n",
       " [1815.2, ' temp: 0.95 | L_coef: 11 | alpha: 0.84 | P: 50'],\n",
       " [1815.4, ' temp: 0.95 | L_coef: 21 | alpha: 0.84 | P: 50'],\n",
       " [1816.0, ' temp: 0.95 | L_coef: 1 | alpha: 0.84 | P: 50'],\n",
       " [1821.4, ' temp: 0.95 | L_coef: 1 | alpha: 0.96 | P: 5'],\n",
       " [1831.8, ' temp: 0.95 | L_coef: 1 | alpha: 0.8 | P: 35'],\n",
       " [1836.4, ' temp: 0.95 | L_coef: 1 | alpha: 0.8 | P: 20'],\n",
       " [1840.6, ' temp: 0.95 | L_coef: 21 | alpha: 0.8 | P: 50'],\n",
       " [1851.6, ' temp: 0.95 | L_coef: 1 | alpha: 0.92 | P: 20'],\n",
       " [1934.4, ' temp: 0.95 | L_coef: 1 | alpha: 0.92 | P: 5'],\n",
       " [1968.0, ' temp: 0.95 | L_coef: 1 | alpha: 0.88 | P: 5'],\n",
       " [1970.6, ' temp: 0.95 | L_coef: 1 | alpha: 0.8 | P: 5'],\n",
       " [2051.2, ' temp: 0.95 | L_coef: 1 | alpha: 0.84 | P: 5']]"
      ]
     },
     "execution_count": 34,
     "metadata": {},
     "output_type": "execute_result"
    }
   ],
   "source": [
    "sorted(avg_dict)"
   ]
  }
 ],
 "metadata": {
  "kernelspec": {
   "display_name": "Python 3",
   "language": "python",
   "name": "python3"
  },
  "language_info": {
   "codemirror_mode": {
    "name": "ipython",
    "version": 3
   },
   "file_extension": ".py",
   "mimetype": "text/x-python",
   "name": "python",
   "nbconvert_exporter": "python",
   "pygments_lexer": "ipython3",
   "version": "3.11.3"
  }
 },
 "nbformat": 4,
 "nbformat_minor": 2
}
